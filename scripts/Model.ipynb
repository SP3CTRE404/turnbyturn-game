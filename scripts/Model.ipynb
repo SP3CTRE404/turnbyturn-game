{
 "cells": [
  {
   "cell_type": "code",
   "execution_count": 11,
   "metadata": {},
   "outputs": [
    {
     "data": {
      "text/html": [
       "<div>\n",
       "<style scoped>\n",
       "    .dataframe tbody tr th:only-of-type {\n",
       "        vertical-align: middle;\n",
       "    }\n",
       "\n",
       "    .dataframe tbody tr th {\n",
       "        vertical-align: top;\n",
       "    }\n",
       "\n",
       "    .dataframe thead th {\n",
       "        text-align: right;\n",
       "    }\n",
       "</style>\n",
       "<table border=\"1\" class=\"dataframe\">\n",
       "  <thead>\n",
       "    <tr style=\"text-align: right;\">\n",
       "      <th></th>\n",
       "      <th>player_health_history</th>\n",
       "      <th>villain_health_history</th>\n",
       "      <th>battle_outcome</th>\n",
       "    </tr>\n",
       "  </thead>\n",
       "  <tbody>\n",
       "    <tr>\n",
       "      <th>0</th>\n",
       "      <td>[100, 100, 100, 80, 80]</td>\n",
       "      <td>[100, 100, 100, 80, 80]</td>\n",
       "      <td>0</td>\n",
       "    </tr>\n",
       "    <tr>\n",
       "      <th>1</th>\n",
       "      <td>[100, 76, 76, 76, 76]</td>\n",
       "      <td>[100, 100, 100, 88, 88]</td>\n",
       "      <td>1</td>\n",
       "    </tr>\n",
       "    <tr>\n",
       "      <th>2</th>\n",
       "      <td>[100, 100, 100, 100, 100]</td>\n",
       "      <td>[100, 80, 80, 80, 80]</td>\n",
       "      <td>1</td>\n",
       "    </tr>\n",
       "    <tr>\n",
       "      <th>3</th>\n",
       "      <td>[100, 100, 72, 72, 72]</td>\n",
       "      <td>[100, 84, 76, 76, 76]</td>\n",
       "      <td>0</td>\n",
       "    </tr>\n",
       "    <tr>\n",
       "      <th>4</th>\n",
       "      <td>[100, 100, 88, 64, 64]</td>\n",
       "      <td>[100, 92, 72, 72, 72]</td>\n",
       "      <td>1</td>\n",
       "    </tr>\n",
       "    <tr>\n",
       "      <th>5</th>\n",
       "      <td>[100, 100, 100, 100, 100]</td>\n",
       "      <td>[100, 100, 100, 100, 100]</td>\n",
       "      <td>0</td>\n",
       "    </tr>\n",
       "    <tr>\n",
       "      <th>6</th>\n",
       "      <td>[100, 100, 100, 100, 100]</td>\n",
       "      <td>[100, 100, 100, 100, 100]</td>\n",
       "      <td>0</td>\n",
       "    </tr>\n",
       "    <tr>\n",
       "      <th>7</th>\n",
       "      <td>[100, 100, 100, 100, 100]</td>\n",
       "      <td>[100, 100, 92, 92, 92]</td>\n",
       "      <td>1</td>\n",
       "    </tr>\n",
       "  </tbody>\n",
       "</table>\n",
       "</div>"
      ],
      "text/plain": [
       "       player_health_history     villain_health_history  battle_outcome\n",
       "0    [100, 100, 100, 80, 80]    [100, 100, 100, 80, 80]               0\n",
       "1      [100, 76, 76, 76, 76]    [100, 100, 100, 88, 88]               1\n",
       "2  [100, 100, 100, 100, 100]      [100, 80, 80, 80, 80]               1\n",
       "3     [100, 100, 72, 72, 72]      [100, 84, 76, 76, 76]               0\n",
       "4     [100, 100, 88, 64, 64]      [100, 92, 72, 72, 72]               1\n",
       "5  [100, 100, 100, 100, 100]  [100, 100, 100, 100, 100]               0\n",
       "6  [100, 100, 100, 100, 100]  [100, 100, 100, 100, 100]               0\n",
       "7  [100, 100, 100, 100, 100]     [100, 100, 92, 92, 92]               1"
      ]
     },
     "execution_count": 11,
     "metadata": {},
     "output_type": "execute_result"
    }
   ],
   "source": [
    "import pandas as pd\n",
    "training_df = pd.read_csv(\"C:/Users/ua261/TurnByTurn_Game/data/training_data.csv\")\n",
    "testing_df = pd.read_csv(\"C:/Users/ua261/TurnByTurn_Game/data/test_data.csv\")\n",
    "eval_df = pd.read_csv(\"C:/Users/ua261/TurnByTurn_Game/data/eval_data.csv\")\n",
    "\n",
    "eval_df"
   ]
  },
  {
   "cell_type": "code",
   "execution_count": null,
   "metadata": {},
   "outputs": [],
   "source": []
  }
 ],
 "metadata": {
  "kernelspec": {
   "display_name": "GameEnv",
   "language": "python",
   "name": "python3"
  },
  "language_info": {
   "codemirror_mode": {
    "name": "ipython",
    "version": 3
   },
   "file_extension": ".py",
   "mimetype": "text/x-python",
   "name": "python",
   "nbconvert_exporter": "python",
   "pygments_lexer": "ipython3",
   "version": "3.13.2"
  }
 },
 "nbformat": 4,
 "nbformat_minor": 2
}
